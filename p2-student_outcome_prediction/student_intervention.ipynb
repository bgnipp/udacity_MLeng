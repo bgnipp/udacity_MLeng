{
 "cells": [
  {
   "cell_type": "markdown",
   "metadata": {},
   "source": [
    "# Project 2: Supervised Learning\n",
    "### Building a Student Intervention System"
   ]
  },
  {
   "cell_type": "markdown",
   "metadata": {},
   "source": [
    "## 1. Classification vs Regression\n",
    "\n",
    "**Your goal is to identify students who might need early intervention - which type of supervised machine learning problem is this, classification or regression? Why?**\n",
    "  - **Answer:**  this is a classification problem - we are predicting a boolean value (is a given student likely to fail and therefore  requires early intervention, or not?).  We are not predicting a continuous value (e.g. a risk score for each student)."
   ]
  },
  {
   "cell_type": "markdown",
   "metadata": {},
   "source": [
    "## 2. Exploring the Data\n",
    "\n",
    "Let's go ahead and read in the student dataset first.\n",
    "\n",
    "_To execute a code cell, click inside it and press **Shift+Enter**._"
   ]
  },
  {
   "cell_type": "code",
   "execution_count": 146,
   "metadata": {
    "collapsed": false
   },
   "outputs": [],
   "source": [
    "# Import libraries\n",
    "import numpy as np\n",
    "import pandas as pd"
   ]
  },
  {
   "cell_type": "code",
   "execution_count": 147,
   "metadata": {
    "collapsed": false
   },
   "outputs": [
    {
     "name": "stdout",
     "output_type": "stream",
     "text": [
      "Student data read successfully!\n"
     ]
    }
   ],
   "source": [
    "# Read student data\n",
    "student_data = pd.read_csv(\"student-data.csv\")\n",
    "print \"Student data read successfully!\"\n",
    "# Note: The last column 'passed' is the target/label, all other are feature columns"
   ]
  },
  {
   "cell_type": "markdown",
   "metadata": {},
   "source": [
    "Now, can you find out the following facts about the dataset?\n",
    "- Total number of students\n",
    "- Number of students who passed\n",
    "- Number of students who failed\n",
    "- Graduation rate of the class (%)\n",
    "- Number of features\n",
    "\n",
    "_Use the code block below to compute these values. Instructions/steps are marked using **TODO**s._"
   ]
  },
  {
   "cell_type": "code",
   "execution_count": 148,
   "metadata": {
    "collapsed": false
   },
   "outputs": [
    {
     "name": "stdout",
     "output_type": "stream",
     "text": [
      "Total number of students: 395\n",
      "Number of students who passed: 265\n",
      "Number of students who failed: 130\n",
      "Number of features: 30\n",
      "Graduation rate of the class: 67.09%\n"
     ]
    }
   ],
   "source": [
    "# TODO: Compute desired values - replace each '?' with an appropriate expression/function call\n",
    "n_students = len(student_data)\n",
    "n_features = len(student_data.columns[:-1])\n",
    "n_passed = len(student_data[(student_data.passed == 'yes')])\n",
    "n_failed = len(student_data[(student_data.passed == 'no')])\n",
    "grad_rate = float(n_passed)/float(n_students)*100.0\n",
    "print \"Total number of students: {}\".format(n_students)\n",
    "print \"Number of students who passed: {}\".format(n_passed)\n",
    "print \"Number of students who failed: {}\".format(n_failed)\n",
    "print \"Number of features: {}\".format(n_features)\n",
    "print \"Graduation rate of the class: {:.2f}%\".format(grad_rate)"
   ]
  },
  {
   "cell_type": "markdown",
   "metadata": {},
   "source": [
    "## 3. Preparing the Data\n",
    "In this section, we will prepare the data for modeling, training and testing.\n",
    "\n",
    "### Identify feature and target columns\n",
    "It is often the case that the data you obtain contains non-numeric features. This can be a problem, as most machine learning algorithms expect numeric data to perform computations with.\n",
    "\n",
    "Let's first separate our data into feature and target columns, and see if any features are non-numeric.<br/>\n",
    "**Note**: For this dataset, the last column (`'passed'`) is the target or label we are trying to predict."
   ]
  },
  {
   "cell_type": "code",
   "execution_count": 149,
   "metadata": {
    "collapsed": false,
    "scrolled": true
   },
   "outputs": [
    {
     "name": "stdout",
     "output_type": "stream",
     "text": [
      "Feature column(s):-\n",
      "['school', 'sex', 'age', 'address', 'famsize', 'Pstatus', 'Medu', 'Fedu', 'Mjob', 'Fjob', 'reason', 'guardian', 'traveltime', 'studytime', 'failures', 'schoolsup', 'famsup', 'paid', 'activities', 'nursery', 'higher', 'internet', 'romantic', 'famrel', 'freetime', 'goout', 'Dalc', 'Walc', 'health', 'absences']\n",
      "Target column: passed\n",
      "\n",
      "Feature values:-\n",
      "  school sex  age address famsize Pstatus  Medu  Fedu     Mjob      Fjob  \\\n",
      "0     GP   F   18       U     GT3       A     4     4  at_home   teacher   \n",
      "1     GP   F   17       U     GT3       T     1     1  at_home     other   \n",
      "2     GP   F   15       U     LE3       T     1     1  at_home     other   \n",
      "3     GP   F   15       U     GT3       T     4     2   health  services   \n",
      "4     GP   F   16       U     GT3       T     3     3    other     other   \n",
      "\n",
      "    ...    higher internet  romantic  famrel  freetime goout Dalc Walc health  \\\n",
      "0   ...       yes       no        no       4         3     4    1    1      3   \n",
      "1   ...       yes      yes        no       5         3     3    1    1      3   \n",
      "2   ...       yes      yes        no       4         3     2    2    3      3   \n",
      "3   ...       yes      yes       yes       3         2     2    1    1      5   \n",
      "4   ...       yes       no        no       4         3     2    1    2      5   \n",
      "\n",
      "  absences  \n",
      "0        6  \n",
      "1        4  \n",
      "2       10  \n",
      "3        2  \n",
      "4        4  \n",
      "\n",
      "[5 rows x 30 columns]\n"
     ]
    }
   ],
   "source": [
    "# Extract feature (X) and target (y) columns\n",
    "feature_cols = list(student_data.columns[:-1])  # all columns but last are features\n",
    "target_col = student_data.columns[-1]  # last column is the target/label\n",
    "print \"Feature column(s):-\\n{}\".format(feature_cols)\n",
    "print \"Target column: {}\".format(target_col)\n",
    "\n",
    "X_all = student_data[feature_cols]  # feature values for all students\n",
    "y_all = student_data[target_col].replace(['yes', 'no'], [1, 0])  # corresponding targets/labels\n",
    " \n",
    "print \"\\nFeature values:-\"\n",
    "print X_all.head()  # print the first 5 rows"
   ]
  },
  {
   "cell_type": "markdown",
   "metadata": {},
   "source": [
    "### Preprocess feature columns\n",
    "\n",
    "As you can see, there are several non-numeric columns that need to be converted! Many of them are simply `yes`/`no`, e.g. `internet`. These can be reasonably converted into `1`/`0` (binary) values.\n",
    "\n",
    "Other columns, like `Mjob` and `Fjob`, have more than two values, and are known as _categorical variables_. The recommended way to handle such a column is to create as many columns as possible values (e.g. `Fjob_teacher`, `Fjob_other`, `Fjob_services`, etc.), and assign a `1` to one of them and `0` to all others.\n",
    "\n",
    "These generated columns are sometimes called _dummy variables_, and we will use the [`pandas.get_dummies()`](http://pandas.pydata.org/pandas-docs/stable/generated/pandas.get_dummies.html?highlight=get_dummies#pandas.get_dummies) function to perform this transformation."
   ]
  },
  {
   "cell_type": "code",
   "execution_count": 180,
   "metadata": {
    "collapsed": false
   },
   "outputs": [
    {
     "name": "stdout",
     "output_type": "stream",
     "text": [
      "Processed feature columns (48):-\n",
      "['school_GP', 'school_MS', 'sex_F', 'sex_M', 'age', 'address_R', 'address_U', 'famsize_GT3', 'famsize_LE3', 'Pstatus_A', 'Pstatus_T', 'Medu', 'Fedu', 'Mjob_at_home', 'Mjob_health', 'Mjob_other', 'Mjob_services', 'Mjob_teacher', 'Fjob_at_home', 'Fjob_health', 'Fjob_other', 'Fjob_services', 'Fjob_teacher', 'reason_course', 'reason_home', 'reason_other', 'reason_reputation', 'guardian_father', 'guardian_mother', 'guardian_other', 'traveltime', 'studytime', 'failures', 'schoolsup', 'famsup', 'paid', 'activities', 'nursery', 'higher', 'internet', 'romantic', 'famrel', 'freetime', 'goout', 'Dalc', 'Walc', 'health', 'absences']\n",
      "   school_GP  school_MS  sex_F  sex_M  age  address_R  address_U  famsize_GT3  \\\n",
      "0        1.0        0.0    1.0    0.0   18        0.0        1.0          1.0   \n",
      "1        1.0        0.0    1.0    0.0   17        0.0        1.0          1.0   \n",
      "2        1.0        0.0    1.0    0.0   15        0.0        1.0          0.0   \n",
      "3        1.0        0.0    1.0    0.0   15        0.0        1.0          1.0   \n",
      "4        1.0        0.0    1.0    0.0   16        0.0        1.0          1.0   \n",
      "\n",
      "   famsize_LE3  Pstatus_A    ...     higher  internet  romantic  famrel  \\\n",
      "0          0.0        1.0    ...          1         0         0       4   \n",
      "1          0.0        0.0    ...          1         1         0       5   \n",
      "2          1.0        0.0    ...          1         1         0       4   \n",
      "3          0.0        0.0    ...          1         1         1       3   \n",
      "4          0.0        0.0    ...          1         0         0       4   \n",
      "\n",
      "   freetime  goout  Dalc  Walc  health  absences  \n",
      "0         3      4     1     1       3         6  \n",
      "1         3      3     1     1       3         4  \n",
      "2         3      2     2     3       3        10  \n",
      "3         2      2     1     1       5         2  \n",
      "4         3      2     1     2       5         4  \n",
      "\n",
      "[5 rows x 48 columns]\n"
     ]
    }
   ],
   "source": [
    "# Preprocess feature columns\n",
    "def preprocess_features(X):\n",
    "    outX = pd.DataFrame(index=X.index)  # output dataframe, initially empty\n",
    "\n",
    "    # Check each column\n",
    "    for col, col_data in X.iteritems():\n",
    "        # If data type is non-numeric, try to replace all yes/no values with 1/0\n",
    "        if col_data.dtype == object:\n",
    "            col_data = col_data.replace(['yes', 'no'], [1, 0])\n",
    "        # Note: This should change the data type for yes/no columns to int\n",
    "\n",
    "        # If still non-numeric, convert to one or more dummy variables\n",
    "        if col_data.dtype == object:\n",
    "            col_data = pd.get_dummies(col_data, prefix=col)  # e.g. 'school' => 'school_GP', 'school_MS'\n",
    "\n",
    "        outX = outX.join(col_data)  # collect column(s) in output dataframe\n",
    "\n",
    "    return outX\n",
    "\n",
    "X_all = preprocess_features(X_all)\n",
    "print \"Processed feature columns ({}):-\\n{}\".format(len(X_all.columns), list(X_all.columns))\n",
    "print X_all.head()  # print the first 5 rows"
   ]
  },
  {
   "cell_type": "markdown",
   "metadata": {},
   "source": [
    "### Split data into training and test sets\n",
    "\n",
    "So far, we have converted all _categorical_ features into numeric values. In this next step, we split the data (both features and corresponding labels) into training and test sets."
   ]
  },
  {
   "cell_type": "code",
   "execution_count": 151,
   "metadata": {
    "collapsed": false
   },
   "outputs": [
    {
     "name": "stdout",
     "output_type": "stream",
     "text": [
      "Training set: 300 samples\n",
      "Test set: 95 samples\n"
     ]
    }
   ],
   "source": [
    "# First, decide how many training vs test samples you want\n",
    "num_all = student_data.shape[0]  # same as len(student_data)\n",
    "num_train = 300  # about 75% of the data\n",
    "num_test = num_all - num_train\n",
    "\n",
    "# TODO: Then, select features (X) and corresponding labels (y) for the training and test sets\n",
    "# Note: Shuffle the data or randomly select samples to avoid any bias due to ordering in the dataset\n",
    "\n",
    "from sklearn import cross_validation\n",
    "X_train, X_test, y_train, y_test = cross_validation.train_test_split(X_all, y_all, test_size=num_test, random_state=1)\n",
    "\n",
    "print \"Training set: {} samples\".format(X_train.shape[0])\n",
    "print \"Test set: {} samples\".format(X_test.shape[0])\n",
    "# Note: If you need a validation set, extract it from within training data"
   ]
  },
  {
   "cell_type": "markdown",
   "metadata": {},
   "source": [
    "## 4. Training and Evaluating Models\n",
    "Choose 3 supervised learning models that are available in scikit-learn, and appropriate for this problem. For each model:\n",
    "\n",
    "**Decision Tree:**\n",
    "- *What are the general applications of this model? What are its strengths and weaknesses?*\n",
    "  - Strengths:\n",
    "    - Decision trees can be very computationally efficient, therefore they can be a good choice when compute resources are limited.\n",
    "    - They are easier to understand than other methods; they can be easily visualized and reasoned about (they are a \"whitebox model\"). \n",
    "    - They can be used with both numerical and categorical data (they are not optimized for datasets that only have a single type of variable).\n",
    "    - They require less data preparation than other models.\n",
    "  - Weaknesses:\n",
    "    - Decision trees with greater depth are quite prone to overfitting (given unbounded depth/complexity, a tree can be created to perfectly explain any set of training data, but this usually does not generalize).\n",
    "    - Decision trees do not model certain concepts well, such as XOR.\n",
    "    - If data is not sufficiently shuffled/randomized, decision trees are more prone to overfitting/error.\n",
    "  \n",
    "- *Given what you know about the data so far, why did you choose this model to apply?*\n",
    "  - A low depth decision tree is very computationally efficient (for both training and prediction).  Also, the \"whitebox\" aspect has instructional value; I am interested in seeing the tree that is created in order to gain a better understanding of both the algoritm and the data it is being applied on. \n",
    "  \n",
    "- *Fit this model to the training data, try to predict labels (for both training and test sets), and measure the F<sub>1</sub> score. Repeat this process with different training set sizes (100, 200, 300), keeping test set constant.*\n",
    "  - Done, see below\n",
    "  \n",
    "**Gaussian Naive Bayes:**\n",
    "- *What are the general applications of this model? What are its strengths and weaknesses?*\n",
    "  - Strengths:\n",
    "    - Very computationally efficient (due to their simple, or \"naive,\" nature; each distribution is treated as one-dimensional).\n",
    "    - Require a small amount of training data\n",
    "  - Weaknesses:\n",
    "    - \"Naive\" assumption of independence between feature pairs.  This means that a potentially useful aspect of the data is neglected.\n",
    "    - Often a useful classifier, but a usually a bad estimator\n",
    "  \n",
    "- *Given what you know about the data so far, why did you choose this model to apply?*\n",
    "  - It is very computationally efficient, for both training and prediction.  It requires less training data.\n",
    "  \n",
    "- *Fit this model to the training data, try to predict labels (for both training and test sets), and measure the F<sub>1</sub> score. Repeat this process with different training set sizes (100, 200, 300), keeping test set constant.*\n",
    "  - Done, see below\n",
    "  \n",
    "**Support Vector Classifier:**\n",
    "- *What are the general applications of this model? What are its strengths and weaknesses?*\n",
    "  - Strengths:\n",
    "    - Effective for data with many features (even when the number of features exceeds the number of samples!)\n",
    "    - Particularly strong at distinguishing data at the \"border\" of classes (the data that is most difficult to distinguish/classify)\n",
    "    -  Highly tunable, due to availability of several kernel functions \n",
    "  - Weaknesses:\n",
    "    - More computationally intensive than the other two models I selected\n",
    "  \n",
    "- *Given what you know about the data so far, why did you choose this model to apply?*\n",
    "  - Though more computationally intensive than the other two models I selected, it is still efficient relative to other models.  Our data has several dimensions, and SVC is well suited for this.  \n",
    "  \n",
    "- *Fit this model to the training data, try to predict labels (for both training and test sets), and measure the F<sub>1</sub> score. Repeat this process with different training set sizes (100, 200, 300), keeping test set constant.*\n",
    "  - Done, see below\n",
    "\n",
    "Produce a table showing training time, prediction time, F<sub>1</sub> score on training set and F<sub>1</sub> score on test set, for each training set size.\n",
    "\n",
    "Note: You need to produce 3 such tables - one for each model."
   ]
  },
  {
   "cell_type": "code",
   "execution_count": 152,
   "metadata": {
    "collapsed": false
   },
   "outputs": [
    {
     "name": "stdout",
     "output_type": "stream",
     "text": [
      "Training DecisionTreeClassifier...\n",
      "Done!\n",
      "Training time (secs): 0.001\n"
     ]
    }
   ],
   "source": [
    "# Train a model\n",
    "import time\n",
    "\n",
    "def train_classifier(clf, X_train, y_train, gridSearch=False):\n",
    "    print \"Training {}...\".format(clf.__class__.__name__)\n",
    "    start = time.time()\n",
    "    clf.fit(X_train, y_train)\n",
    "    \n",
    "    if gridSearch:\n",
    "        clf = clf.best_estimator_\n",
    "        print \"Best estimator: {}\".format(clf)\n",
    "        \n",
    "    end = time.time()\n",
    "    print \"Done!\\nTraining time (secs): {:.3f}\".format(end - start)\n",
    "\n",
    "# TODO: Choose a model, import it and instantiate an object\n",
    "from sklearn.tree import tree\n",
    "clf = tree.DecisionTreeClassifier(max_depth=4)\n",
    "\n",
    "# Fit model to training data\n",
    "train_classifier(clf, X_train, y_train)  # note: using entire training set here\n",
    "# you can inspect the learned model by printing it"
   ]
  },
  {
   "cell_type": "code",
   "execution_count": 153,
   "metadata": {
    "collapsed": false
   },
   "outputs": [
    {
     "name": "stdout",
     "output_type": "stream",
     "text": [
      "Predicting labels using DecisionTreeClassifier...\n",
      "Done!\n",
      "Prediction time (secs): 0.001\n",
      "F1 score for training set: 0.853211009174\n"
     ]
    }
   ],
   "source": [
    "# Predict on training set and compute F1 score\n",
    "from sklearn.metrics import f1_score\n",
    "\n",
    "def predict_labels(clf, features, target):\n",
    "    print \"Predicting labels using {}...\".format(clf.__class__.__name__)\n",
    "    start = time.time()\n",
    "    y_pred = clf.predict(features)\n",
    "    end = time.time()\n",
    "    print \"Done!\\nPrediction time (secs): {:.3f}\".format(end - start)\n",
    "    return f1_score(target.values, y_pred, pos_label=1)\n",
    "\n",
    "train_f1_score = predict_labels(clf, X_train, y_train)\n",
    "print \"F1 score for training set: {}\".format(train_f1_score)"
   ]
  },
  {
   "cell_type": "code",
   "execution_count": 154,
   "metadata": {
    "collapsed": false
   },
   "outputs": [
    {
     "name": "stdout",
     "output_type": "stream",
     "text": [
      "Predicting labels using DecisionTreeClassifier...\n",
      "Done!\n",
      "Prediction time (secs): 0.000\n",
      "F1 score for test set: 0.847222222222\n"
     ]
    }
   ],
   "source": [
    "# Predict on test data\n",
    "print \"F1 score for test set: {}\".format(predict_labels(clf, X_test, y_test))"
   ]
  },
  {
   "cell_type": "code",
   "execution_count": 155,
   "metadata": {
    "collapsed": false
   },
   "outputs": [
    {
     "name": "stdout",
     "output_type": "stream",
     "text": [
      "------------------------------------------\n",
      "Training set size: 200\n",
      "Training DecisionTreeClassifier...\n",
      "Done!\n",
      "Training time (secs): 0.001\n",
      "Predicting labels using DecisionTreeClassifier...\n",
      "Done!\n",
      "Prediction time (secs): 0.000\n",
      "F1 score for training set: 0.856088560886\n",
      "Predicting labels using DecisionTreeClassifier...\n",
      "Done!\n",
      "Prediction time (secs): 0.000\n",
      "F1 score for test set: 0.75\n",
      "------------------------------------------\n",
      "Training set size: 100\n",
      "Training DecisionTreeClassifier...\n",
      "Done!\n",
      "Training time (secs): 0.001\n",
      "Predicting labels using DecisionTreeClassifier...\n",
      "Done!\n",
      "Prediction time (secs): 0.000\n",
      "F1 score for training set: 0.884955752212\n",
      "Predicting labels using DecisionTreeClassifier...\n",
      "Done!\n",
      "Prediction time (secs): 0.000\n",
      "F1 score for test set: 0.610169491525\n"
     ]
    }
   ],
   "source": [
    "# Train and predict using different training set sizes\n",
    "def train_predict(clf, X_train, y_train, X_test, y_test, gridSearch=False):\n",
    "    print \"------------------------------------------\"\n",
    "    print \"Training set size: {}\".format(len(X_train))\n",
    "    train_classifier(clf, X_train, y_train, gridSearch)\n",
    "    print \"F1 score for training set: {}\".format(predict_labels(clf, X_train, y_train))\n",
    "    print \"F1 score for test set: {}\".format(predict_labels(clf, X_test, y_test))\n",
    "\n",
    "# TODO: Run the helper function above for desired subsets of training data\n",
    "# Note: Keep the test set constant\n",
    "X_train200, _X_test, y_train200, _y_test = cross_validation.train_test_split(X_train, y_train, train_size=200, random_state=1)\n",
    "train_predict(clf, X_train200, y_train200, X_test, y_test)\n",
    "\n",
    "X_train100, _X_test, y_train100, _y_test = cross_validation.train_test_split(X_train, y_train, train_size=100, random_state=1)\n",
    "train_predict(clf, X_train100, y_train100, X_test, y_test)\n"
   ]
  },
  {
   "cell_type": "code",
   "execution_count": 156,
   "metadata": {
    "collapsed": false
   },
   "outputs": [
    {
     "name": "stdout",
     "output_type": "stream",
     "text": [
      "Training set size: 300\n",
      "Training GaussianNB...\n",
      "Done!\n",
      "Training time (secs): 0.001\n",
      "\n",
      "Predicting labels using GaussianNB...\n",
      "Done!\n",
      "Prediction time (secs): 0.000\n",
      "F1 score for training set: 0.792079207921 \n",
      "\n",
      "Predicting labels using DecisionTreeClassifier...\n",
      "Done!\n",
      "Prediction time (secs): 0.000\n",
      "F1 score for test set: 0.610169491525\n",
      "------------------------------------------\n",
      "Training set size: 200\n",
      "Training GaussianNB...\n",
      "Done!\n",
      "Training time (secs): 0.000\n",
      "Predicting labels using GaussianNB...\n",
      "Done!\n",
      "Prediction time (secs): 0.000\n",
      "F1 score for training set: 0.776470588235\n",
      "Predicting labels using GaussianNB...\n",
      "Done!\n",
      "Prediction time (secs): 0.000\n",
      "F1 score for test set: 0.6875\n",
      "------------------------------------------\n",
      "Training set size: 100\n",
      "Training GaussianNB...\n",
      "Done!\n",
      "Training time (secs): 0.000\n",
      "Predicting labels using GaussianNB...\n",
      "Done!\n",
      "Prediction time (secs): 0.000\n",
      "F1 score for training set: 0.791666666667\n",
      "Predicting labels using GaussianNB...\n",
      "Done!\n",
      "Prediction time (secs): 0.000\n",
      "F1 score for test set: 0.760563380282\n"
     ]
    }
   ],
   "source": [
    "# TODO: Train and predict using two other models\n",
    "\n",
    "#Gaussian Naive Bayes\n",
    "from sklearn.naive_bayes import GaussianNB\n",
    "gnb = GaussianNB()\n",
    "print \"Training set size: 300\"\n",
    "train_classifier(gnb, X_train, y_train)\n",
    "print\"\"\n",
    "\n",
    "train_f1_score = predict_labels(gnb, X_train, y_train)\n",
    "print \"F1 score for training set: {}\".format(train_f1_score), '\\n'\n",
    "\n",
    "# Predict on test data\n",
    "print \"F1 score for test set: {}\".format(predict_labels(clf, X_test, y_test))\n",
    "\n",
    "#Retrain w/ different size training sets, and predict\n",
    "train_predict(gnb, X_train200, y_train200, X_test, y_test)\n",
    "train_predict(gnb, X_train100, y_train100, X_test, y_test)\n"
   ]
  },
  {
   "cell_type": "code",
   "execution_count": 157,
   "metadata": {
    "collapsed": false
   },
   "outputs": [
    {
     "name": "stdout",
     "output_type": "stream",
     "text": [
      "Training set size: 300\n",
      "Training SVC...\n",
      "Done!\n",
      "Training time (secs): 0.006\n",
      "\n",
      "Predicting labels using SVC...\n",
      "Done!\n",
      "Prediction time (secs): 0.004\n",
      "F1 score for training set: 0.858387799564 \n",
      "\n",
      "Predicting labels using SVC...\n",
      "Done!\n",
      "Prediction time (secs): 0.001\n",
      "F1 score for test set: 0.846153846154\n",
      "------------------------------------------\n",
      "Training set size: 200\n",
      "Training SVC...\n",
      "Done!\n",
      "Training time (secs): 0.003\n",
      "Predicting labels using SVC...\n",
      "Done!\n",
      "Prediction time (secs): 0.002\n",
      "F1 score for training set: 0.858085808581\n",
      "Predicting labels using SVC...\n",
      "Done!\n",
      "Prediction time (secs): 0.001\n",
      "F1 score for test set: 0.857142857143\n",
      "------------------------------------------\n",
      "Training set size: 100\n",
      "Training SVC...\n",
      "Done!\n",
      "Training time (secs): 0.001\n",
      "Predicting labels using SVC...\n",
      "Done!\n",
      "Prediction time (secs): 0.001\n",
      "F1 score for training set: 0.868852459016\n",
      "Predicting labels using SVC...\n",
      "Done!\n",
      "Prediction time (secs): 0.001\n",
      "F1 score for test set: 0.784615384615\n"
     ]
    }
   ],
   "source": [
    "#Support Vector Machine\n",
    "from sklearn import svm \n",
    "svm = svm.SVC()\n",
    "print \"Training set size: 300\"\n",
    "train_classifier(svm, X_train, y_train)\n",
    "print\"\"\n",
    "\n",
    "train_f1_score = predict_labels(svm, X_train, y_train)\n",
    "print \"F1 score for training set: {}\".format(train_f1_score), '\\n'\n",
    "\n",
    "# Predict on test data\n",
    "print \"F1 score for test set: {}\".format(predict_labels(svm, X_test, y_test))\n",
    "\n",
    "#Retrain w/ different size training sets, and predict\n",
    "train_predict(svm, X_train200, y_train200, X_test, y_test)\n",
    "train_predict(svm, X_train100, y_train100, X_test, y_test)"
   ]
  },
  {
   "cell_type": "code",
   "execution_count": 158,
   "metadata": {
    "collapsed": false
   },
   "outputs": [
    {
     "name": "stdout",
     "output_type": "stream",
     "text": [
      "Metrics:\n",
      "\n",
      "Decision Tree:\n",
      "                           Training set size:    100     200     300\n",
      "Training time(secs)                           0.0010  0.0010  0.0020\n",
      "Prediction time(secs)                         0.0000  0.0000  0.0010\n",
      "F1 score for training set                     0.8850  0.8561  0.8532\n",
      "F1 score for test set                         0.6218  0.7500  0.8392 \n",
      "\n",
      "\n",
      "Gaussian Naive Bayes:\n",
      "                           Training set size:    100     200     300\n",
      "Training time(secs)                           0.0000  0.0010  0.0020\n",
      "Prediction time(secs)                         0.0000  0.0000  0.0000\n",
      "F1 score for training set                     0.7917  0.7765  0.7921\n",
      "F1 score for test set                         0.7610  0.6875  0.8392 \n",
      "\n",
      "\n",
      "Support Vector Classifier:\n",
      "                           Training set size:    100     200     300\n",
      "Training time(secs)                           0.0010  0.0030  0.0060\n",
      "Prediction time(secs)                         0.0010  0.0010  0.0010\n",
      "F1 score for training set                     0.8689  0.8581  0.8584\n",
      "F1 score for test set                         0.7846  0.8571  0.8462 \n",
      "\n",
      "\n"
     ]
    }
   ],
   "source": [
    "print \"Metrics:\\n\"\n",
    "\n",
    "dt_results = pd.DataFrame.from_items([('Training time(secs)', [0.001, 0.001, 0.002]), ('Prediction time(secs)', [0.000, 0.000, 0.001]), ('F1 score for training set', [0.8850, 0.8561, 0.8532]), ('F1 score for test set', [0.6218, 0.75, 0.8392])], orient='index', columns=['Training set size:    100', '200', '300'])\n",
    "print \"Decision Tree:\\n\", dt_results, '\\n\\n'\n",
    "\n",
    "gnb_results = pd.DataFrame.from_items([('Training time(secs)', [0.000, 0.001, 0.002]), ('Prediction time(secs)', [0.000, 0.000, 0.000]), ('F1 score for training set', [0.7917, 0.7765, 0.7921]), ('F1 score for test set', [0.7610, 0.6875, 0.8392])], orient='index', columns=['Training set size:    100', '200', '300'])\n",
    "print \"Gaussian Naive Bayes:\\n\", gnb_results, '\\n\\n'\n",
    "\n",
    "svm_results = pd.DataFrame.from_items([('Training time(secs)', [0.001, 0.003, 0.006]), ('Prediction time(secs)', [0.001, 0.001, 0.001]), ('F1 score for training set', [0.8689, 0.8581, 0.8584]), ('F1 score for test set', [0.7846, 0.8571, 0.8462])], orient='index', columns=['Training set size:    100', '200', '300'])\n",
    "print \"Support Vector Classifier:\\n\", svm_results, '\\n\\n'\n"
   ]
  },
  {
   "cell_type": "markdown",
   "metadata": {},
   "source": [
    "## 5. Choosing the Best Model\n",
    "\n",
    "- **Based on the experiments you performed earlier, in 1-2 paragraphs explain to the board of supervisors what single model you chose as the best model. Which model is generally the most appropriate based on the available data, limited resources, cost, and performance?**\n",
    "  - Of the three models evaluated above, the Support Vector Classification model is probably the best choice:\n",
    "    - It performs well with limited training data.  Surprisingly, it performs better when trained on the 200 sample training set vs. the 300 sample training set.\n",
    "    - Though the training time is higher than that of the other evaluated models, it is still quite low (it took 3ms to train on 200 samples).  The cost of this compute time is quite negligible (we're talking micropennies).\n",
    "    - The prediction time is 1ms (on my laptop).  This is greater than the that of the other evaluated models (which clock in closer to 0ms).  However, in almost all concievable circumstances, a 1ms prediction time would significantly exceed minimum requirements (it could make 30,000 predictions in the time it took to write this bullet :)\n",
    "    -  It performs better than any other model when evaluted by the F1 metric, by a margin of about 2%.\n",
    "\n",
    "\n",
    "- **In 1-2 paragraphs explain to the board of supervisors in layman's terms how the final model chosen is supposed to work (for example if you chose a Decision Tree or Support Vector Machine, how does it make a prediction).**\n",
    "  - The SVC model essentially graphs training data, and attempts to \"draw a line\" on this graph to separate the data into the distinct classes we are trying to distinguish/predict.  In our case, our data consists of multiple 'features' (student data fields/columns), and this results in a graph with many dimensions. Bear with me; graphs of greater than three dimensions are difficult to visualize, but they can be very useful, especially in this case.  \n",
    "  \n",
    "    The SVC model then finds a line (or \"plane\") on this graph which provides the best separation between classes (in our case, students who passed vs. students who failed).  The model takes extra care to find a line that maximizes the space between itself and the data classes it is separating.  It focuses on distinguishing the points that are most difficult to tell apart.  The idea is that if the model is good at making the most challenging distinctions, it should also be able to make less challenging distinctions with ease.\n",
    "    \n",
    "    After the the line is drawn (i.e. the \"model is trained\"), the model makes predictions by plotting new data against the graph and seeing which \"side of the line/plane\" the point falls on, which indicates which class it belongs to.\n",
    "  \n",
    "  \n",
    "\n",
    "- **Fine-tune the model. Use Gridsearch with at least one important parameter tuned and with at least 3 settings. Use the entire training set for this.**\n",
    "  - Done\n",
    "  \n",
    "\n",
    "- **What is the model's final F<sub>1</sub> score?**\n",
    "  - 0.9252 (against the training set), and 0.8465 (against the test set).  The performance against the test set is significantly better than the untuned model, but the performance against the test slight is slightly worse!  We may be overfitting a bit by tuning the model against the training data. "
   ]
  },
  {
   "cell_type": "code",
   "execution_count": 183,
   "metadata": {
    "collapsed": false
   },
   "outputs": [
    {
     "name": "stdout",
     "output_type": "stream",
     "text": [
      "Training GridSearchCV...\n",
      "Done!\n",
      "Training time (secs): 41.378\n",
      "Best estimator: SVC(C=1, cache_size=200, class_weight=None, coef0=0.0,\n",
      "  decision_function_shape=None, degree=1, gamma=0.05, kernel='rbf',\n",
      "  max_iter=-1, probability=False, random_state=None, shrinking=True,\n",
      "  tol=0.001, verbose=False)\n",
      "\n",
      "Predicting labels using GridSearchCV...\n",
      "Done!\n",
      "Prediction time (secs): 0.004\n",
      "F1 score for training set: 0.92523364486\n",
      "\n",
      "Predicting labels using GridSearchCV...\n",
      "Done!\n",
      "Prediction time (secs): 0.002\n",
      "F1 score for test set: 0.83660130719\n",
      "\n",
      "Best parameters for the final tuned SVC model is {'kernel': 'rbf', 'C': 1, 'gamma': 0.05, 'degree': 1}\n"
     ]
    }
   ],
   "source": [
    "# TODO: Fine-tune your model and report the best F1 score\n",
    "from sklearn import cross_validation\n",
    "from sklearn.grid_search import GridSearchCV\n",
    "from sklearn import svm \n",
    "\n",
    "parameters = {'kernel':('linear','poly','rbf','sigmoid'), 'C':[1, 2, 5, 10], 'degree':[1,2,3,4,5,6], 'gamma':['auto',.01,.05,.15]}\n",
    "\n",
    "tuned_svm = svm.SVC()\n",
    "tuned_svm = GridSearchCV(tuned_svm, parameters, scoring='f1')\n",
    "print \"Training {}...\".format(tuned_svm.__class__.__name__)\n",
    "start = time.time()\n",
    "tuned_svm.fit(X_train, y_train)\n",
    "best_estimator = tuned_svm.best_estimator_\n",
    "end = time.time()\n",
    "\n",
    "print \"Done!\\nTraining time (secs): {:.3f}\".format(end - start)\n",
    "print \"Best estimator: {}\\n\".format(best_estimator)\n",
    "\n",
    "print \"F1 score for training set: {}\\n\".format(predict_labels(tuned_svm, X_train, y_train))\n",
    "\n",
    "print \"F1 score for test set: {}\\n\".format(predict_labels(tuned_svm, X_test, y_test))\n",
    "\n",
    "print \"Best parameters for the final tuned SVC model is {}\".format(tuned_svm.best_params_)"
   ]
  }
 ],
 "metadata": {
  "kernelspec": {
   "display_name": "Python 2",
   "language": "python",
   "name": "python2"
  },
  "language_info": {
   "codemirror_mode": {
    "name": "ipython",
    "version": 2
   },
   "file_extension": ".py",
   "mimetype": "text/x-python",
   "name": "python",
   "nbconvert_exporter": "python",
   "pygments_lexer": "ipython2",
   "version": "2.7.10"
  }
 },
 "nbformat": 4,
 "nbformat_minor": 0
}
